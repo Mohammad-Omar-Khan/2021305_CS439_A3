{
  "cells": [
    {
      "cell_type": "markdown",
      "metadata": {
        "id": "4DF6Ipf7RinX"
      },
      "source": [
        "# Importing Libraries"
      ]
    },
    {
      "cell_type": "code",
      "execution_count": 23,
      "metadata": {
        "id": "2NC42GaIRinY"
      },
      "outputs": [],
      "source": [
        "import numpy as np\n",
        "import pandas as pd\n",
        "import matplotlib.pyplot as plt\n",
        "\n",
        "from collections import Counter\n",
        "from pyspark.sql import SparkSession\n",
        "from pyspark.sql.functions import col, sum, count, year, explode, split"
      ]
    },
    {
      "cell_type": "markdown",
      "metadata": {
        "id": "30uoTqbTRinZ"
      },
      "source": [
        "# Load Data of Netflix Content"
      ]
    },
    {
      "cell_type": "code",
      "execution_count": null,
      "metadata": {
        "colab": {
          "base_uri": "https://localhost:8080/"
        },
        "id": "yHC2q53FRinZ",
        "outputId": "9e6ced41-c878-4027-918e-d3fde1d0d933"
      },
      "outputs": [],
      "source": [
        "# Initializes a Spark session.\n",
        "spark = SparkSession.builder.appName(\"Netflix EDA\").getOrCreate()\n",
        "\n",
        "# Load the CSV file into a Spark DataFrame, then converts it into a Pandas DataFrame.\n",
        "netflix_data = spark.read.option(\"header\", \"true\").csv(\"netflix_data.csv\")\n",
        "netflix_pandas = netflix_data.toPandas()\n",
        "\n",
        "# Loads the dataset, and prints the first 5 rows.\n",
        "netflix_data = spark.read.csv(\"netflix_data.csv\", header=True, inferSchema=True)\n",
        "netflix_data.show(5)\n",
        "print(\"\\n\")\n",
        "\n",
        "# Prints some information about the table.\n",
        "netflix_data.printSchema()\n",
        "print(\"\\nRow Count:\", netflix_data.count())"
      ]
    },
    {
      "cell_type": "markdown",
      "metadata": {},
      "source": [
        "# Distribution of Content Type"
      ]
    },
    {
      "cell_type": "code",
      "execution_count": null,
      "metadata": {},
      "outputs": [],
      "source": [
        "# Counts the number of occurrences of each content type (Movie, TV Show, etc.)\n",
        "netflix_data.groupBy(\"type\").agg(count(\"*\").alias(\"count\")).show()"
      ]
    },
    {
      "cell_type": "code",
      "execution_count": null,
      "metadata": {},
      "outputs": [],
      "source": [
        "# Create a pie chart for the distribution of content type.\n",
        "content_counts = netflix_pandas['type'].value_counts()\n",
        "colors = ['#ff7744', '#4477ff']\n",
        "content_counts.plot(kind='pie', autopct='%1.1f%%', figsize=(8, 8), colors=colors, startangle=90)\n",
        "\n",
        "plt.title('Distribution of Content Type')\n",
        "plt.show()"
      ]
    },
    {
      "cell_type": "code",
      "execution_count": null,
      "metadata": {},
      "outputs": [],
      "source": [
        "# Create a bar chart for the distribution of content type.\n",
        "netflix_pandas['type'].value_counts().plot(kind='bar', title='Distribution of Content Type')\n",
        "plt.show()"
      ]
    },
    {
      "cell_type": "markdown",
      "metadata": {},
      "source": [
        "# Distribution of Genres"
      ]
    },
    {
      "cell_type": "code",
      "execution_count": null,
      "metadata": {},
      "outputs": [],
      "source": [
        "# Counts the number of occurrences of each genre (Dramas, Comedies, Musicals, etc.)\n",
        "genres_data = netflix_data.withColumn(\"genre\", explode(split(\"listed_in\", \", \")))\n",
        "genres_data.groupBy(\"genre\").agg(count(\"*\").alias(\"count\")).orderBy(\"count\", ascending=False).show()"
      ]
    },
    {
      "cell_type": "code",
      "execution_count": null,
      "metadata": {},
      "outputs": [],
      "source": [
        "# Create a bar chart for the distribution of genres.\n",
        "content_genres = netflix_pandas['listed_in'].dropna().str.split(',').sum()\n",
        "genre_frequencies = Counter(content_genres)\n",
        "\n",
        "# Extract top 10 most frequent genres.\n",
        "top_genres = pd.DataFrame(genre_frequencies.most_common(10), columns=['Genre', 'Frequency'])\n",
        "top_genres.set_index('Genre').plot(kind='bar', figsize=(12, 6), color='green', edgecolor='black')\n",
        "\n",
        "plt.title('Top Content Genres on Netflix', fontsize=16)\n",
        "plt.xlabel('Genre of Content', fontsize=12)\n",
        "plt.ylabel('Amount of Titles', fontsize=12)\n",
        "plt.show()"
      ]
    },
    {
      "cell_type": "markdown",
      "metadata": {},
      "source": [
        "# Other Exploratory Analysis"
      ]
    },
    {
      "cell_type": "code",
      "execution_count": null,
      "metadata": {},
      "outputs": [],
      "source": [
        "# Counts the number of occurrences of each actor.\n",
        "actors_data = netflix_data.withColumn(\"actor\", explode(split(\"cast\", \", \")))\n",
        "actors_data.groupBy(\"actor\").agg(count(\"*\").alias(\"count\")).orderBy(\"count\", ascending=False).show(10)\n",
        "\n",
        "# Counts the number of occurrences of each director.\n",
        "netflix_data.groupBy(\"director\").agg(count(\"*\").alias(\"count\")).orderBy(\"count\", ascending=False).show(10)"
      ]
    },
    {
      "cell_type": "code",
      "execution_count": null,
      "metadata": {
        "colab": {
          "base_uri": "https://localhost:8080/"
        },
        "id": "_jMgFZKVRina",
        "outputId": "a6ba7a10-35b9-41dd-8486-b07d6eb02dfc"
      },
      "outputs": [],
      "source": [
        "# Counts the number of occurrences of NULL in each column.\n",
        "null_counts = netflix_data.select(\n",
        "    [sum(col(c).isNull().cast(\"int\")).alias(c) for c in netflix_data.columns]\n",
        ")\n",
        "\n",
        "null_counts.show()"
      ]
    },
    {
      "cell_type": "markdown",
      "metadata": {
        "id": "09gzBbnnRinc"
      },
      "source": [
        "# Other Graphs"
      ]
    },
    {
      "cell_type": "code",
      "execution_count": null,
      "metadata": {
        "colab": {
          "base_uri": "https://localhost:8080/",
          "height": 522
        },
        "id": "3BDXTjsYScc7",
        "outputId": "31886283-b6c0-45a4-d3b9-609361c360eb"
      },
      "outputs": [],
      "source": [
        "# Create a bar chart for the distribution of release years.\n",
        "netflix_pandas['release_year'] = pd.to_numeric(netflix_pandas['release_year'], errors='coerce')\n",
        "netflix_pandas['release_year'].value_counts().sort_index().plot(kind='bar', figsize=(15, 5), title='Distribution of Release Year')\n",
        "plt.show()"
      ]
    },
    {
      "cell_type": "code",
      "execution_count": null,
      "metadata": {
        "colab": {
          "base_uri": "https://localhost:8080/",
          "height": 771
        },
        "id": "DMlunXO-TYFb",
        "outputId": "29e72a3e-db67-40a1-91bf-0d6ae28f710e"
      },
      "outputs": [],
      "source": [
        "# Create a bar chart for the distribution of content ratings.\n",
        "rating_counts = netflix_pandas['rating'].value_counts()\n",
        "rating_counts.plot(kind='bar', figsize=(10, 6), color='green', edgecolor='black')\n",
        "\n",
        "plt.title('Distribution of Content Ratings', fontsize=16)\n",
        "plt.xlabel('Rating', fontsize=12)\n",
        "plt.ylabel('Amount of Titles', fontsize=12)\n",
        "plt.show()\n"
      ]
    }
  ],
  "metadata": {
    "accelerator": "GPU",
    "colab": {
      "gpuType": "T4",
      "provenance": []
    },
    "kernelspec": {
      "display_name": "Python 3",
      "name": "python3"
    },
    "language_info": {
      "codemirror_mode": {
        "name": "ipython",
        "version": 3
      },
      "file_extension": ".py",
      "mimetype": "text/x-python",
      "name": "python",
      "nbconvert_exporter": "python",
      "pygments_lexer": "ipython3",
      "version": "3.11.4"
    }
  },
  "nbformat": 4,
  "nbformat_minor": 0
}
